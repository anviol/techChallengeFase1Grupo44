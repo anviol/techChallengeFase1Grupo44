{
 "cells": [
  {
   "cell_type": "code",
   "execution_count": 210,
   "metadata": {},
   "outputs": [],
   "source": [
    "import pandas as pd\n",
    "pd.options.mode.chained_assignment = None\n",
    "import chardet\n",
    "import numpy as np"
   ]
  },
  {
   "cell_type": "code",
   "execution_count": 211,
   "metadata": {},
   "outputs": [],
   "source": [
    "anos_analisados = list(range(2008, 2023))"
   ]
  },
  {
   "cell_type": "code",
   "execution_count": 212,
   "metadata": {},
   "outputs": [],
   "source": [
    "csv_vitibrasil_producao = pd.read_csv('../dados_originais/embrapa/Producao.csv', sep=\";\")\n",
    "csv_vitibrasil_comercio = pd.read_csv('../dados_originais/embrapa/Comercio.csv', sep=\";\")\n",
    "csv_vitibrasil_exportacao = pd.read_csv('../dados_originais/embrapa/ExpVinho.csv', sep=\";\")\n",
    "csv_vitibrasil_importacao = pd.read_csv('../dados_originais/embrapa/ImpVinhos.csv', sep=\";\")\n",
    "csv_vitibrasil_processamento = pd.read_csv('../dados_originais/embrapa/ProcessaViniferas.csv', sep=\";\")"
   ]
  },
  {
   "cell_type": "code",
   "execution_count": 213,
   "metadata": {},
   "outputs": [],
   "source": [
    "def importacao_dados_inmet(csv_file_path : str):\n",
    "\n",
    "  with open (csv_file_path, \"rb\") as file:\n",
    "    bytes = file.read(100)\n",
    "\n",
    "  encoding_file = chardet.detect(bytes)\n",
    "\n",
    "  if encoding_file.get(\"encoding\") == 'ascii':\n",
    "    encoding_file = 'ISO-8859-1'\n",
    "  else:\n",
    "    encoding_file = encoding_file.get(\"encoding\")\n",
    "\n",
    "  return pd.read_csv(csv_file_path\n",
    "                              , sep=\";\"\n",
    "                              , encoding=encoding_file\n",
    "                              , skiprows=8)"
   ]
  },
  {
   "cell_type": "code",
   "execution_count": 214,
   "metadata": {},
   "outputs": [],
   "source": [
    "csv_inmet_por_ano = {}\n",
    "\n",
    "for ano in anos_analisados:\n",
    "  csv_inmet_por_ano[ano] = importacao_dados_inmet(f'../dados_originais/INMET/INMET_S_RS_A840_BENTO GONCALVES_01-01-{ano}_A_31-12-{ano}.CSV')\n",
    "\n",
    "csv_inmet_por_ano[2019] = csv_inmet_por_ano[2019].rename(columns={'Hora UTC': 'HORA (UTC)'})\n",
    "csv_inmet_por_ano[2019] = csv_inmet_por_ano[2019].rename(columns={'Data': 'DATA (YYYY-MM-DD)'})\n",
    "\n",
    "csv_inmet_por_ano[2020] = csv_inmet_por_ano[2020].rename(columns={'Hora UTC': 'HORA (UTC)'})\n",
    "csv_inmet_por_ano[2020] = csv_inmet_por_ano[2020].rename(columns={'Data': 'DATA (YYYY-MM-DD)'})\n",
    "csv_inmet_por_ano[2020] = csv_inmet_por_ano[2020].rename(columns={'RADIACAO GLOBAL (Kj/m²)': 'RADIACAO GLOBAL (KJ/m²)'})\n",
    "\n",
    "csv_inmet_por_ano[2021] = csv_inmet_por_ano[2021].rename(columns={'Hora UTC': 'HORA (UTC)'})\n",
    "csv_inmet_por_ano[2021] = csv_inmet_por_ano[2021].rename(columns={'Data': 'DATA (YYYY-MM-DD)'})\n",
    "csv_inmet_por_ano[2021] = csv_inmet_por_ano[2021].rename(columns={'RADIACAO GLOBAL (Kj/m²)': 'RADIACAO GLOBAL (KJ/m²)'})\n",
    "\n",
    "csv_inmet_por_ano[2022] = csv_inmet_por_ano[2022].rename(columns={'Hora UTC': 'HORA (UTC)'})\n",
    "csv_inmet_por_ano[2022] = csv_inmet_por_ano[2022].rename(columns={'Data': 'DATA (YYYY-MM-DD)'})\n",
    "csv_inmet_por_ano[2022] = csv_inmet_por_ano[2022].rename(columns={'RADIACAO GLOBAL (Kj/m²)': 'RADIACAO GLOBAL (KJ/m²)'})"
   ]
  },
  {
   "cell_type": "code",
   "execution_count": 215,
   "metadata": {},
   "outputs": [
    {
     "name": "stdout",
     "output_type": "stream",
     "text": [
      "2008 e 2009 as colunas são iguais.\n",
      "2008 e 2010 as colunas são iguais.\n",
      "2008 e 2011 as colunas são iguais.\n",
      "2008 e 2012 as colunas são iguais.\n",
      "2008 e 2013 as colunas são iguais.\n",
      "2008 e 2014 as colunas são iguais.\n",
      "2008 e 2015 as colunas são iguais.\n",
      "2008 e 2016 as colunas são iguais.\n",
      "2008 e 2017 as colunas são iguais.\n",
      "2008 e 2018 as colunas são iguais.\n",
      "2008 e 2019 as colunas são iguais.\n",
      "2008 e 2020 as colunas são iguais.\n",
      "2008 e 2021 as colunas são iguais.\n",
      "2008 e 2022 as colunas são iguais.\n"
     ]
    }
   ],
   "source": [
    "\n",
    "for ano in anos_analisados:\n",
    "    if ano != anos_analisados[-1]:\n",
    "        inicial = 2008\n",
    "        final = ano+1\n",
    "        if csv_inmet_por_ano[inicial].columns.tolist() == csv_inmet_por_ano[final].columns.tolist():\n",
    "            print(inicial, \"e\", final, 'as colunas são iguais.')\n",
    "        else:\n",
    "            print(inicial, \"e\", final, 'as coluans são diferentes.')"
   ]
  },
  {
   "cell_type": "code",
   "execution_count": 216,
   "metadata": {},
   "outputs": [],
   "source": [
    "for ano in anos_analisados:\n",
    "    if ano >= 2019:\n",
    "        csv_inmet_por_ano[ano]['DATA (YYYY-MM-DD)'] = pd.to_datetime(csv_inmet_por_ano[ano]['DATA (YYYY-MM-DD)'], format='%Y/%m/%d')"
   ]
  },
  {
   "cell_type": "code",
   "execution_count": 217,
   "metadata": {},
   "outputs": [],
   "source": [
    "colunas_para_converter = ['PRECIPITAÇÃO TOTAL, HORÁRIO (mm)',\n",
    "    'PRESSAO ATMOSFERICA AO NIVEL DA ESTACAO, HORARIA (mB)',\n",
    "    'PRESSÃO ATMOSFERICA MAX.NA HORA ANT. (AUT) (mB)',\n",
    "    'PRESSÃO ATMOSFERICA MIN. NA HORA ANT. (AUT) (mB)',\n",
    "    'RADIACAO GLOBAL (KJ/m²)',\n",
    "    'TEMPERATURA DO AR - BULBO SECO, HORARIA (°C)',\n",
    "    'TEMPERATURA DO PONTO DE ORVALHO (°C)',\n",
    "    'TEMPERATURA MÁXIMA NA HORA ANT. (AUT) (°C)',\n",
    "    'TEMPERATURA MÍNIMA NA HORA ANT. (AUT) (°C)',\n",
    "    'TEMPERATURA ORVALHO MAX. NA HORA ANT. (AUT) (°C)',\n",
    "    'TEMPERATURA ORVALHO MIN. NA HORA ANT. (AUT) (°C)',\n",
    "    'UMIDADE REL. MAX. NA HORA ANT. (AUT) (%)',\n",
    "    'UMIDADE REL. MIN. NA HORA ANT. (AUT) (%)',\n",
    "    'UMIDADE RELATIVA DO AR, HORARIA (%)',\n",
    "    'VENTO, DIREÇÃO HORARIA (gr) (° (gr))',\n",
    "    'VENTO, RAJADA MAXIMA (m/s)',\n",
    "    'VENTO, VELOCIDADE HORARIA (m/s)',\n",
    "    'Unnamed: 19']\n",
    "\n",
    "# Concatenar todos os DataFrames em um único DataFrame\n",
    "inmet = pd.concat(csv_inmet_por_ano, ignore_index=True)\n",
    "inmet['DATA (YYYY-MM-DD)'] = pd.to_datetime(inmet['DATA (YYYY-MM-DD)'])\n",
    "for coluna in colunas_para_converter:\n",
    "    inmet[coluna] = pd.to_numeric(inmet[coluna], errors='coerce')\n",
    "inmet_filtrado = inmet[inmet['PRECIPITAÇÃO TOTAL, HORÁRIO (mm)'] != -9999.0]\n",
    "inmet_filtrado.replace(-9999, np.nan, inplace=True)\n"
   ]
  },
  {
   "cell_type": "code",
   "execution_count": 218,
   "metadata": {},
   "outputs": [],
   "source": [
    "agregacoes = {\n",
    "    'PRECIPITAÇÃO TOTAL, HORÁRIO (mm)': 'sum',\n",
    "    'PRESSAO ATMOSFERICA AO NIVEL DA ESTACAO, HORARIA (mB)': ['min', 'max', 'mean'],\n",
    "    # 'PRESSÃO ATMOSFERICA MAX.NA HORA ANT. (AUT) (mB)': 'mean',\n",
    "    # 'PRESSÃO ATMOSFERICA MIN. NA HORA ANT. (AUT) (mB)': 'mean',\n",
    "    'RADIACAO GLOBAL (KJ/m²)': 'mean',\n",
    "    'TEMPERATURA DO AR - BULBO SECO, HORARIA (°C)': ['min', 'max', 'mean'],\n",
    "    'TEMPERATURA DO PONTO DE ORVALHO (°C)': ['min', 'max', 'mean'],\n",
    "    # 'TEMPERATURA MÁXIMA NA HORA ANT. (AUT) (°C)',\n",
    "    # 'TEMPERATURA MÍNIMA NA HORA ANT. (AUT) (°C)',\n",
    "    # 'TEMPERATURA ORVALHO MAX. NA HORA ANT. (AUT) (°C)',\n",
    "    # 'TEMPERATURA ORVALHO MIN. NA HORA ANT. (AUT) (°C)',\n",
    "    # 'UMIDADE REL. MAX. NA HORA ANT. (AUT) (%)',\n",
    "    # 'UMIDADE REL. MIN. NA HORA ANT. (AUT) (%)',\n",
    "    'UMIDADE RELATIVA DO AR, HORARIA (%)': ['min', 'max', 'mean'],\n",
    "    'VENTO, DIREÇÃO HORARIA (gr) (° (gr))': ['min', 'max', 'mean'],\n",
    "    'VENTO, RAJADA MAXIMA (m/s)': ['min', 'max', 'mean'],\n",
    "    'VENTO, VELOCIDADE HORARIA (m/s)': ['min', 'max', 'mean'],\n",
    "    # 'Unnamed: 19': ['min', 'max', 'mean'],\n",
    "}\n",
    "inmet_por_dia = inmet_filtrado.groupby('DATA (YYYY-MM-DD)').agg(agregacoes)"
   ]
  }
 ],
 "metadata": {
  "kernelspec": {
   "display_name": "techChallengeFase1Grupo44",
   "language": "python",
   "name": "python3"
  },
  "language_info": {
   "codemirror_mode": {
    "name": "ipython",
    "version": 3
   },
   "file_extension": ".py",
   "mimetype": "text/x-python",
   "name": "python",
   "nbconvert_exporter": "python",
   "pygments_lexer": "ipython3",
   "version": "3.11.9"
  }
 },
 "nbformat": 4,
 "nbformat_minor": 2
}
